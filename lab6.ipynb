{
 "cells": [
  {
   "cell_type": "markdown",
   "metadata": {},
   "source": [
    "### Домашнее задание №5 по курсу \"Машинное обучение\"\n",
    "Головач Андрей"
   ]
  },
  {
   "cell_type": "markdown",
   "metadata": {},
   "source": [
    "### Задание 1\n",
    "\n",
    "Задача логистической регрессии: $$L(w) = \\sum\\limits_{i=1}^n ln\\sigma (y_i<w,x>) \\rightarrow max$$ $H=\\mathbb{R}^d$ - выпуклое множество <br> $Z=X\\times{Y} = \\mathbb{R}^d\\times{\\{-1, 1\\}}$<br>\n",
    "Необходимо показать, что $L(w) = -ln\\sigma(y<w,x>)$ выпуклая функция для любого $(x,y) \\in Z$, где $x \\in \\mathbb{R}^d, y \\in \\{-1, 1\\}$ <br> Рассмотрим функцию  $f(x) = -ln\\sigma(x).$ $$f(x) = -ln\\sigma(x)$$ $$f'(x) = -\\frac{e^{-x}}{1+e^{-x}}$$ <br>$f'(x)$ возрастает, из чего следует, что $f(x)$ - выпуклая.<br> $F(w) = y<w,x> = <w, yx>$ - линейная функция, из чего, с учетом выпуклости $f(x)$, по лемме о композиции выпуклой и линейной функции, следует, что L(w) выпукла."
   ]
  },
  {
   "cell_type": "markdown",
   "metadata": {},
   "source": [
    "### Задание 3\n",
    "\n",
    "$\\textbf{Необходимость}$\n",
    "\n",
    "Пусть $f(x)$ - выпуклая функция, определенная на выпуклом множестве $S$. Тогда по определению имеем: $$\\forall \\alpha \\in [0,1] \\quad \\forall u,v \\in S \\quad f (\\alpha u + (1-\\alpha) v) \\leq \\alpha f (u) + (1-\\alpha)f(v).$$\n",
    "Отсюда получаем, что точка $\\alpha f(u) + (1-\\alpha)f(v)$, лежащая между $f(u)$ и $f(v)$, совпадает с или находится выше точки $f(\\alpha(u) + (1-\\alpha)v)$/, то есть принадлежит надграфику  этой функции. Из этого следует, что точки любого отрезка, соединяющего граничные точки награфика, лежит внутри надграфика, откуда следует, что надграфик $f(x)$ - выпуклое множество.\n",
    "\n",
    "$\\textbf{Достаточность}$\n",
    "\n",
    "Пусть $C$ - надграфик функции $f(x)$ и он выпуклый.\n",
    "Рассмотрим произвольные $u,v \\in S$. Точки $(u, f(u))$ и $(v, f(v))$ принадлежат $C$. Из выпуклости $C$ следует $$\\forall \\alpha in [0;1] (\\alpha u + (1-\\alpha)v, \\alpha f(u) + (1-\\alpha)f(v)) \\in C$$ откуда, по определению надграфика $$f(\\alpha u + (1-\\alpha)v) \\leq \\alpha f(u) + (1-\\alpha)f(v) $$\n",
    "\n"
   ]
  }
 ],
 "metadata": {
  "kernelspec": {
   "display_name": "Python 3",
   "language": "python",
   "name": "python3"
  },
  "language_info": {
   "codemirror_mode": {
    "name": "ipython",
    "version": 3
   },
   "file_extension": ".py",
   "mimetype": "text/x-python",
   "name": "python",
   "nbconvert_exporter": "python",
   "pygments_lexer": "ipython3",
   "version": "3.6.1"
  }
 },
 "nbformat": 4,
 "nbformat_minor": 2
}
